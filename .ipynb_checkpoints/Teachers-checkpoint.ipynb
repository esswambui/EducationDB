{
 "cells": [
  {
   "cell_type": "code",
   "execution_count": 1,
   "metadata": {},
   "outputs": [],
   "source": [
    "import pandas as pd"
   ]
  },
  {
   "cell_type": "markdown",
   "metadata": {},
   "source": [
    "## Loading Data into Pandas"
   ]
  },
  {
   "cell_type": "code",
   "execution_count": 2,
   "metadata": {},
   "outputs": [
    {
     "data": {
      "text/html": [
       "<div>\n",
       "<style scoped>\n",
       "    .dataframe tbody tr th:only-of-type {\n",
       "        vertical-align: middle;\n",
       "    }\n",
       "\n",
       "    .dataframe tbody tr th {\n",
       "        vertical-align: top;\n",
       "    }\n",
       "\n",
       "    .dataframe thead th {\n",
       "        text-align: right;\n",
       "    }\n",
       "</style>\n",
       "<table border=\"1\" class=\"dataframe\">\n",
       "  <thead>\n",
       "    <tr style=\"text-align: right;\">\n",
       "      <th></th>\n",
       "      <th>COUNTY</th>\n",
       "      <th>School Type</th>\n",
       "      <th>Employment Body</th>\n",
       "      <th>No. of Teachers</th>\n",
       "      <th>County (centroid)</th>\n",
       "      <th>Year</th>\n",
       "    </tr>\n",
       "  </thead>\n",
       "  <tbody>\n",
       "    <tr>\n",
       "      <th>0</th>\n",
       "      <td>Baringo</td>\n",
       "      <td>Public</td>\n",
       "      <td>TSC</td>\n",
       "      <td>1172</td>\n",
       "      <td>(0.669252, 35.946465)</td>\n",
       "      <td>12/31/2014 12:00:00 AM</td>\n",
       "    </tr>\n",
       "    <tr>\n",
       "      <th>1</th>\n",
       "      <td>Bomet</td>\n",
       "      <td>Public</td>\n",
       "      <td>TSC</td>\n",
       "      <td>1379</td>\n",
       "      <td>(-0.726295, 35.298598)</td>\n",
       "      <td>12/31/2014 12:00:00 AM</td>\n",
       "    </tr>\n",
       "    <tr>\n",
       "      <th>2</th>\n",
       "      <td>Bungoma</td>\n",
       "      <td>Public</td>\n",
       "      <td>TSC</td>\n",
       "      <td>2946</td>\n",
       "      <td>(0.749285, 34.640461)</td>\n",
       "      <td>12/31/2014 12:00:00 AM</td>\n",
       "    </tr>\n",
       "    <tr>\n",
       "      <th>3</th>\n",
       "      <td>Busia</td>\n",
       "      <td>Public</td>\n",
       "      <td>TSC</td>\n",
       "      <td>1182</td>\n",
       "      <td>(0.387444, 34.193631)</td>\n",
       "      <td>12/31/2014 12:00:00 AM</td>\n",
       "    </tr>\n",
       "    <tr>\n",
       "      <th>4</th>\n",
       "      <td>Elgeyo Marakwet</td>\n",
       "      <td>Public</td>\n",
       "      <td>TSC</td>\n",
       "      <td>1087</td>\n",
       "      <td>(0.802219, 35.536563)</td>\n",
       "      <td>12/31/2014 12:00:00 AM</td>\n",
       "    </tr>\n",
       "    <tr>\n",
       "      <th>...</th>\n",
       "      <td>...</td>\n",
       "      <td>...</td>\n",
       "      <td>...</td>\n",
       "      <td>...</td>\n",
       "      <td>...</td>\n",
       "      <td>...</td>\n",
       "    </tr>\n",
       "    <tr>\n",
       "      <th>187</th>\n",
       "      <td>Uasin Gishu</td>\n",
       "      <td>Private</td>\n",
       "      <td>TSC</td>\n",
       "      <td>0</td>\n",
       "      <td>(0.526086, 35.322012)</td>\n",
       "      <td>12/31/2014 12:00:00 AM</td>\n",
       "    </tr>\n",
       "    <tr>\n",
       "      <th>188</th>\n",
       "      <td>Vihiga</td>\n",
       "      <td>Private</td>\n",
       "      <td>TSC</td>\n",
       "      <td>0</td>\n",
       "      <td>(0.076266, 34.722323)</td>\n",
       "      <td>12/31/2014 12:00:00 AM</td>\n",
       "    </tr>\n",
       "    <tr>\n",
       "      <th>189</th>\n",
       "      <td>Wajir</td>\n",
       "      <td>Private</td>\n",
       "      <td>TSC</td>\n",
       "      <td>0</td>\n",
       "      <td>(1.808138, 40.034986)</td>\n",
       "      <td>12/31/2014 12:00:00 AM</td>\n",
       "    </tr>\n",
       "    <tr>\n",
       "      <th>190</th>\n",
       "      <td>West Pokot</td>\n",
       "      <td>Private</td>\n",
       "      <td>TSC</td>\n",
       "      <td>0</td>\n",
       "      <td>(1.740106, 35.243847)</td>\n",
       "      <td>12/31/2014 12:00:00 AM</td>\n",
       "    </tr>\n",
       "    <tr>\n",
       "      <th>191</th>\n",
       "      <td>Kenya</td>\n",
       "      <td>Private</td>\n",
       "      <td>TSC</td>\n",
       "      <td>0</td>\n",
       "      <td>NaN</td>\n",
       "      <td>12/31/2014 12:00:00 AM</td>\n",
       "    </tr>\n",
       "  </tbody>\n",
       "</table>\n",
       "<p>192 rows × 6 columns</p>\n",
       "</div>"
      ],
      "text/plain": [
       "              COUNTY School Type Employment Body  No. of Teachers  \\\n",
       "0    Baringo             Public          TSC                 1172   \n",
       "1    Bomet               Public          TSC                 1379   \n",
       "2    Bungoma             Public          TSC                 2946   \n",
       "3    Busia               Public          TSC                 1182   \n",
       "4    Elgeyo Marakwet     Public          TSC                 1087   \n",
       "..               ...         ...             ...              ...   \n",
       "187  Uasin Gishu         Private         TSC                    0   \n",
       "188  Vihiga              Private         TSC                    0   \n",
       "189  Wajir               Private         TSC                    0   \n",
       "190  West Pokot          Private         TSC                    0   \n",
       "191  Kenya               Private         TSC                    0   \n",
       "\n",
       "          County (centroid)                    Year  \n",
       "0     (0.669252, 35.946465)  12/31/2014 12:00:00 AM  \n",
       "1    (-0.726295, 35.298598)  12/31/2014 12:00:00 AM  \n",
       "2     (0.749285, 34.640461)  12/31/2014 12:00:00 AM  \n",
       "3     (0.387444, 34.193631)  12/31/2014 12:00:00 AM  \n",
       "4     (0.802219, 35.536563)  12/31/2014 12:00:00 AM  \n",
       "..                      ...                     ...  \n",
       "187   (0.526086, 35.322012)  12/31/2014 12:00:00 AM  \n",
       "188   (0.076266, 34.722323)  12/31/2014 12:00:00 AM  \n",
       "189   (1.808138, 40.034986)  12/31/2014 12:00:00 AM  \n",
       "190   (1.740106, 35.243847)  12/31/2014 12:00:00 AM  \n",
       "191                     NaN  12/31/2014 12:00:00 AM  \n",
       "\n",
       "[192 rows x 6 columns]"
      ]
     },
     "execution_count": 2,
     "metadata": {},
     "output_type": "execute_result"
    }
   ],
   "source": [
    "#Import from CSV\n",
    "df = pd.read_csv(\"teacher_by_status_and_county_for_secondary.csv\")\n",
    "df"
   ]
  },
  {
   "cell_type": "code",
   "execution_count": 3,
   "metadata": {},
   "outputs": [
    {
     "data": {
      "text/plain": [
       "Index(['COUNTY', 'School Type', 'Employment Body', 'No. of Teachers',\n",
       "       'County (centroid)', 'Year'],\n",
       "      dtype='object')"
      ]
     },
     "execution_count": 3,
     "metadata": {},
     "output_type": "execute_result"
    }
   ],
   "source": [
    "#show columns\n",
    "df.columns"
   ]
  },
  {
   "cell_type": "code",
   "execution_count": 4,
   "metadata": {},
   "outputs": [
    {
     "data": {
      "text/html": [
       "<div>\n",
       "<style scoped>\n",
       "    .dataframe tbody tr th:only-of-type {\n",
       "        vertical-align: middle;\n",
       "    }\n",
       "\n",
       "    .dataframe tbody tr th {\n",
       "        vertical-align: top;\n",
       "    }\n",
       "\n",
       "    .dataframe thead th {\n",
       "        text-align: right;\n",
       "    }\n",
       "</style>\n",
       "<table border=\"1\" class=\"dataframe\">\n",
       "  <thead>\n",
       "    <tr style=\"text-align: right;\">\n",
       "      <th></th>\n",
       "      <th>COUNTY</th>\n",
       "      <th>School Type</th>\n",
       "      <th>Employment Body</th>\n",
       "      <th>No. of Teachers</th>\n",
       "      <th>Year</th>\n",
       "    </tr>\n",
       "  </thead>\n",
       "  <tbody>\n",
       "    <tr>\n",
       "      <th>0</th>\n",
       "      <td>Baringo</td>\n",
       "      <td>Public</td>\n",
       "      <td>TSC</td>\n",
       "      <td>1172</td>\n",
       "      <td>12/31/2014 12:00:00 AM</td>\n",
       "    </tr>\n",
       "    <tr>\n",
       "      <th>1</th>\n",
       "      <td>Bomet</td>\n",
       "      <td>Public</td>\n",
       "      <td>TSC</td>\n",
       "      <td>1379</td>\n",
       "      <td>12/31/2014 12:00:00 AM</td>\n",
       "    </tr>\n",
       "    <tr>\n",
       "      <th>2</th>\n",
       "      <td>Bungoma</td>\n",
       "      <td>Public</td>\n",
       "      <td>TSC</td>\n",
       "      <td>2946</td>\n",
       "      <td>12/31/2014 12:00:00 AM</td>\n",
       "    </tr>\n",
       "    <tr>\n",
       "      <th>3</th>\n",
       "      <td>Busia</td>\n",
       "      <td>Public</td>\n",
       "      <td>TSC</td>\n",
       "      <td>1182</td>\n",
       "      <td>12/31/2014 12:00:00 AM</td>\n",
       "    </tr>\n",
       "    <tr>\n",
       "      <th>4</th>\n",
       "      <td>Elgeyo Marakwet</td>\n",
       "      <td>Public</td>\n",
       "      <td>TSC</td>\n",
       "      <td>1087</td>\n",
       "      <td>12/31/2014 12:00:00 AM</td>\n",
       "    </tr>\n",
       "    <tr>\n",
       "      <th>...</th>\n",
       "      <td>...</td>\n",
       "      <td>...</td>\n",
       "      <td>...</td>\n",
       "      <td>...</td>\n",
       "      <td>...</td>\n",
       "    </tr>\n",
       "    <tr>\n",
       "      <th>187</th>\n",
       "      <td>Uasin Gishu</td>\n",
       "      <td>Private</td>\n",
       "      <td>TSC</td>\n",
       "      <td>0</td>\n",
       "      <td>12/31/2014 12:00:00 AM</td>\n",
       "    </tr>\n",
       "    <tr>\n",
       "      <th>188</th>\n",
       "      <td>Vihiga</td>\n",
       "      <td>Private</td>\n",
       "      <td>TSC</td>\n",
       "      <td>0</td>\n",
       "      <td>12/31/2014 12:00:00 AM</td>\n",
       "    </tr>\n",
       "    <tr>\n",
       "      <th>189</th>\n",
       "      <td>Wajir</td>\n",
       "      <td>Private</td>\n",
       "      <td>TSC</td>\n",
       "      <td>0</td>\n",
       "      <td>12/31/2014 12:00:00 AM</td>\n",
       "    </tr>\n",
       "    <tr>\n",
       "      <th>190</th>\n",
       "      <td>West Pokot</td>\n",
       "      <td>Private</td>\n",
       "      <td>TSC</td>\n",
       "      <td>0</td>\n",
       "      <td>12/31/2014 12:00:00 AM</td>\n",
       "    </tr>\n",
       "    <tr>\n",
       "      <th>191</th>\n",
       "      <td>Kenya</td>\n",
       "      <td>Private</td>\n",
       "      <td>TSC</td>\n",
       "      <td>0</td>\n",
       "      <td>12/31/2014 12:00:00 AM</td>\n",
       "    </tr>\n",
       "  </tbody>\n",
       "</table>\n",
       "<p>192 rows × 5 columns</p>\n",
       "</div>"
      ],
      "text/plain": [
       "              COUNTY School Type Employment Body  No. of Teachers  \\\n",
       "0    Baringo             Public          TSC                 1172   \n",
       "1    Bomet               Public          TSC                 1379   \n",
       "2    Bungoma             Public          TSC                 2946   \n",
       "3    Busia               Public          TSC                 1182   \n",
       "4    Elgeyo Marakwet     Public          TSC                 1087   \n",
       "..               ...         ...             ...              ...   \n",
       "187  Uasin Gishu         Private         TSC                    0   \n",
       "188  Vihiga              Private         TSC                    0   \n",
       "189  Wajir               Private         TSC                    0   \n",
       "190  West Pokot          Private         TSC                    0   \n",
       "191  Kenya               Private         TSC                    0   \n",
       "\n",
       "                       Year  \n",
       "0    12/31/2014 12:00:00 AM  \n",
       "1    12/31/2014 12:00:00 AM  \n",
       "2    12/31/2014 12:00:00 AM  \n",
       "3    12/31/2014 12:00:00 AM  \n",
       "4    12/31/2014 12:00:00 AM  \n",
       "..                      ...  \n",
       "187  12/31/2014 12:00:00 AM  \n",
       "188  12/31/2014 12:00:00 AM  \n",
       "189  12/31/2014 12:00:00 AM  \n",
       "190  12/31/2014 12:00:00 AM  \n",
       "191  12/31/2014 12:00:00 AM  \n",
       "\n",
       "[192 rows x 5 columns]"
      ]
     },
     "execution_count": 4,
     "metadata": {},
     "output_type": "execute_result"
    }
   ],
   "source": [
    "#remove column\n",
    "df.drop( 'County (centroid)', inplace=True, axis=1)\n",
    "df\n"
   ]
  },
  {
   "cell_type": "code",
   "execution_count": 5,
   "metadata": {},
   "outputs": [
    {
     "data": {
      "text/plain": [
       "Index(['COUNTY', 'School Type', 'Employment Body', 'No. of Teachers', 'Year'], dtype='object')"
      ]
     },
     "execution_count": 5,
     "metadata": {},
     "output_type": "execute_result"
    }
   ],
   "source": [
    "df.columns\n"
   ]
  },
  {
   "cell_type": "markdown",
   "metadata": {},
   "source": [
    "## Create Sqlite Database"
   ]
  },
  {
   "cell_type": "code",
   "execution_count": 6,
   "metadata": {},
   "outputs": [
    {
     "name": "stdout",
     "output_type": "stream",
     "text": [
      "Database created successfully!\n"
     ]
    }
   ],
   "source": [
    "import sqlite3\n",
    "#connect to sqlite3 and create database\n",
    "conn = sqlite3.connect('Education.db')\n",
    "#create cursor object\n",
    "mycursor = conn.cursor()\n",
    "#Create table\n",
    "# Create teacher table\n",
    "mycursor.execute(''' CREATE TABLE IF NOT EXISTS Teacher \n",
    "            (COUNTY TEXT NOT NULL,\n",
    "             School_Type TEXT NOT NULL,\n",
    "             Employment_Body TEXT NOT NULL,\n",
    "             No_of_Teachers INT NOT NULL,\n",
    "             Year DATETIME NOT NULL);''')\n",
    "conn.commit()\n",
    "\n",
    "\n",
    "print(\"Database created successfully!\")\n"
   ]
  },
  {
   "cell_type": "markdown",
   "metadata": {},
   "source": [
    "## Convert Dataframe to SQL"
   ]
  },
  {
   "cell_type": "code",
   "execution_count": 7,
   "metadata": {},
   "outputs": [
    {
     "name": "stderr",
     "output_type": "stream",
     "text": [
      "C:\\ProgramData\\Anaconda3\\lib\\site-packages\\pandas\\core\\generic.py:2605: UserWarning: The spaces in these column names will not be changed. In pandas versions < 0.14, spaces were converted to underscores.\n",
      "  sql.to_sql(\n"
     ]
    }
   ],
   "source": [
    "df.to_sql('Teacher', conn, if_exists='replace', index=False)\n",
    "\n",
    "teach = []\n",
    "tbl=\"<tr><td>County</td><td>School Type</td><td>Employment Body</td><td>No. of Teachers</td><td>Year</td></tr>\"\n",
    "teach.append(tbl)\n",
    "\n",
    "# Query to show sqlite table\n",
    "mycursor.execute(\"SELECT * FROM Teacher\")\n",
    "#Insert tuple items to html\n",
    "for y in mycursor.fetchall():\n",
    "        a = \"<tr><td>%s</td>\"%y[0]\n",
    "        teach.append(a)\n",
    "        b = \"<td>%s</td>\"%y[1]\n",
    "        teach.append(b)\n",
    "        c = \"<td>%s</td>\"%y[2]\n",
    "        teach.append(c)\n",
    "        d = \"<td>%s</td>\"%y[3]\n",
    "        teach.append(d)\n",
    "        e = \"<td>%s</td></tr>\"%y[4]\n",
    "        teach.append(e)\n",
    "\n"
   ]
  },
  {
   "cell_type": "markdown",
   "metadata": {},
   "source": [
    "## Display Database on Web Browser"
   ]
  },
  {
   "cell_type": "code",
   "execution_count": 9,
   "metadata": {},
   "outputs": [
    {
     "data": {
      "text/plain": [
       "True"
      ]
     },
     "execution_count": 9,
     "metadata": {},
     "output_type": "execute_result"
    }
   ],
   "source": [
    "import webbrowser\n",
    "\n",
    " # Create html file\n",
    "f = open('hrec.html', 'w')\n",
    "\n",
    "# html docstring\n",
    "the_html = '''<!DOCTYPE html>\n",
    "    <html lang=\"en\">\n",
    "    <head>\n",
    "        <meta cSharset=\"UTF-8\">\n",
    "        <meta http-equiv=\"X-UA-Compatible\" content=\"IE=edge\">\n",
    "        <meta name=\"viewport\" content=\"width=device-width, initial-scale=1.0\">\n",
    "        <title>Ministry of Education</title>\n",
    "    </head>\n",
    "    <body>\n",
    "        <h1>Teacher Records</h1>\n",
    "        <table style=\"border: solid; border-spacing: 25px, border-collapse: collapse;\">\n",
    "        <thead><caption><h2> TEACHERS </h2></caption></thead>\n",
    "        %s\n",
    "        </table>\n",
    "        \n",
    "    </body>\n",
    "    </html>''' % (teach)  # from list\n",
    "\n",
    "# write to html file\n",
    "f.write(the_html)\n",
    "    # close file\n",
    "f.close()\n",
    "\n",
    "    # Open file in browser\n",
    "webbrowser.open_new_tab('hrec.html')"
   ]
  },
  {
   "cell_type": "markdown",
   "metadata": {},
   "source": [
    "## Display Dataframe on Web Browser"
   ]
  },
  {
   "cell_type": "code",
   "execution_count": 36,
   "metadata": {},
   "outputs": [
    {
     "data": {
      "text/plain": [
       "True"
      ]
     },
     "execution_count": 36,
     "metadata": {},
     "output_type": "execute_result"
    }
   ],
   "source": [
    "html = r'<link rel =\"stylesheet\" type=\"text/css\" media=\"screen\"\n",
    "html = df.to_html(\"index.html\") \n",
    "# Create index.html to write html on it\n",
    "fa = open(\"index.html\",\"r+\")\n",
    "fa.close()\n",
    "\n",
    "    # Open file in browser\n",
    "webbrowser.open_new_tab('index.html')"
   ]
  },
  {
   "cell_type": "code",
   "execution_count": null,
   "metadata": {},
   "outputs": [],
   "source": []
  }
 ],
 "metadata": {
  "kernelspec": {
   "display_name": "Python 3",
   "language": "python",
   "name": "python3"
  },
  "language_info": {
   "codemirror_mode": {
    "name": "ipython",
    "version": 3
   },
   "file_extension": ".py",
   "mimetype": "text/x-python",
   "name": "python",
   "nbconvert_exporter": "python",
   "pygments_lexer": "ipython3",
   "version": "3.8.5"
  }
 },
 "nbformat": 4,
 "nbformat_minor": 4
}
